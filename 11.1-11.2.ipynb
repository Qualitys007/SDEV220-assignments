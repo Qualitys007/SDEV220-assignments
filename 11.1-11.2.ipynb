{
 "cells": [
  {
   "cell_type": "code",
   "execution_count": 5,
   "metadata": {},
   "outputs": [
    {
     "name": "stdout",
     "output_type": "stream",
     "text": [
      "zoo.py file created.\n",
      "Open 9-5 daily\n"
     ]
    }
   ],
   "source": [
    "#11.1-11.2\n",
    "# create the zoo.py file\n",
    "with open(\"zoo.py\",\"w\" ) as file:\n",
    "    file.write('def hours():\\n')\n",
    "    file.write('    print(\"Open 9-5 daily\")\\n')\n",
    "\n",
    "print(\"zoo.py file created.\")\n",
    "\n",
    "# change to menagerie\n",
    "import zoo as menagerie\n",
    "\n",
    "# call the hours function \n",
    "menagerie.hours()\n"
   ]
  }
 ],
 "metadata": {
  "kernelspec": {
   "display_name": "Python 3",
   "language": "python",
   "name": "python3"
  },
  "language_info": {
   "codemirror_mode": {
    "name": "ipython",
    "version": 3
   },
   "file_extension": ".py",
   "mimetype": "text/x-python",
   "name": "python",
   "nbconvert_exporter": "python",
   "pygments_lexer": "ipython3",
   "version": "3.12.5"
  }
 },
 "nbformat": 4,
 "nbformat_minor": 2
}
